{
  "nbformat": 4,
  "nbformat_minor": 0,
  "metadata": {
    "accelerator": "GPU",
    "colab": {
      "name": "classification.ipynb",
      "provenance": [],
      "private_outputs": true,
      "collapsed_sections": [],
      "toc_visible": true,
      "include_colab_link": true
    },
    "kernelspec": {
      "display_name": "Python 3",
      "name": "python3"
    }
  },
  "cells": [
    {
      "cell_type": "markdown",
      "metadata": {
        "id": "view-in-github",
        "colab_type": "text"
      },
      "source": [
        "<a href=\"https://colab.research.google.com/github/SuWeizhe1124/AI-108-2/blob/master/classification.ipynb\" target=\"_parent\"><img src=\"https://colab.research.google.com/assets/colab-badge.svg\" alt=\"Open In Colab\"/></a>"
      ]
    },
    {
      "cell_type": "code",
      "metadata": {
        "id": "23bTH4YLegEZ",
        "colab_type": "code",
        "colab": {}
      },
      "source": [
        "import numpy as np\n",
        "import matplotlib.pyplot as plt\n",
        "np.random.seed(7)\n",
        "\n",
        "x = np.random.rand(20)*8-4\n",
        "\n",
        "y = np.sin(x) + np.random.rand(20)*0.2\n",
        "\n",
        "\n",
        "omega = np.polyfit(x,y,3) #測試各次方\n",
        "\n",
        "f=np.poly1d(omega)\n",
        "\n",
        "\n",
        "plt.xlabel('X')\n",
        "plt.ylabel('Y')\n",
        "plt.title('using polyfitfunction')\n",
        "plt.grid()\n",
        "plt.scatter(x, y, marker='x', c='red')\n",
        "\n",
        "xx = np.linspace(-4, 4, 100)\n",
        "\n",
        "plt.plot(xx, f(xx), color='green')\n",
        "\n",
        "plt.show()"
      ],
      "execution_count": 0,
      "outputs": []
    },
    {
      "cell_type": "markdown",
      "metadata": {
        "id": "HwBZm9GCqX6L",
        "colab_type": "text"
      },
      "source": [
        "## Numpy"
      ]
    },
    {
      "cell_type": "code",
      "metadata": {
        "id": "x3bAIEq7qYQc",
        "colab_type": "code",
        "colab": {}
      },
      "source": [
        "import numpy as np\n",
        "import matplotlib.pyplot as plt\n",
        "np.random.seed(7)\n",
        "\n",
        "x = np.random.rand(20)*8-4\n",
        "\n",
        "y = np.sin(x) + np.random.rand(20)*0.2\n",
        "omega = np.polyfit(x,y,1) #測試各次方\n",
        "f=np.poly1d(omega)\n",
        "plt.xlabel('X')\n",
        "plt.ylabel('Y')\n",
        "plt.title('using polyfitfunction')\n",
        "plt.grid()\n",
        "plt.scatter(x, y, marker='x', c='red')\n",
        "xx = np.linspace(-4, 4, 100)\n",
        "plt.plot(xx, f(xx), color='green')\n",
        "\n",
        "plt.show()"
      ],
      "execution_count": 0,
      "outputs": []
    }
  ]
}