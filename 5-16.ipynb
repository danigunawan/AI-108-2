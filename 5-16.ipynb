{
  "nbformat": 4,
  "nbformat_minor": 0,
  "metadata": {
    "colab": {
      "name": "Welcome To Colaboratory",
      "provenance": [],
      "collapsed_sections": [],
      "toc_visible": true,
      "include_colab_link": true
    },
    "kernelspec": {
      "display_name": "Python 3",
      "name": "python3"
    }
  },
  "cells": [
    {
      "cell_type": "markdown",
      "metadata": {
        "id": "view-in-github",
        "colab_type": "text"
      },
      "source": [
        "<a href=\"https://colab.research.google.com/github/SuWeizhe1124/AI-108-2/blob/master/5-16.ipynb\" target=\"_parent\"><img src=\"https://colab.research.google.com/assets/colab-badge.svg\" alt=\"Open In Colab\"/></a>"
      ]
    },
    {
      "cell_type": "markdown",
      "metadata": {
        "colab_type": "text",
        "id": "GJBs_flRovLc"
      },
      "source": [
        "## **數字辨識**\n",
        "4050D028 蘇偉哲   還在搞5-16\n",
        "參考 : https://ithelp.ithome.com.tw/articles/10191404\n"
      ]
    },
    {
      "cell_type": "code",
      "metadata": {
        "id": "fcZR1K7qS-sd",
        "colab_type": "code",
        "colab": {
          "base_uri": "https://localhost:8080/",
          "height": 353
        },
        "outputId": "195fbbb7-06cf-4d40-ca47-eb872b72e287"
      },
      "source": [
        "\n",
        "from keras import layers\n",
        "from keras import models\n",
        "from keras.layers import LeakyReLU\n",
        " \n",
        "model = models.Sequential()\n",
        "model.add(layers.Conv2D(32, (3, 3), input_shape=(28, 28, 1)))\n",
        "model.add(LeakyReLU(alpha=0.05))\n",
        "model.add(layers.MaxPooling2D((2, 2))) \n",
        "model.add(layers.Conv2D(64, (3, 3))) \n",
        "model.add(LeakyReLU(alpha=0.05))\n",
        "model.add(layers.MaxPooling2D((2, 2)))\n",
        "model.summary()"
      ],
      "execution_count": 66,
      "outputs": [
        {
          "output_type": "stream",
          "text": [
            "Model: \"sequential_45\"\n",
            "_________________________________________________________________\n",
            "Layer (type)                 Output Shape              Param #   \n",
            "=================================================================\n",
            "conv2d_1 (Conv2D)            (None, 26, 26, 32)        320       \n",
            "_________________________________________________________________\n",
            "leaky_re_lu_1 (LeakyReLU)    (None, 26, 26, 32)        0         \n",
            "_________________________________________________________________\n",
            "max_pooling2d_1 (MaxPooling2 (None, 13, 13, 32)        0         \n",
            "_________________________________________________________________\n",
            "conv2d_2 (Conv2D)            (None, 11, 11, 64)        18496     \n",
            "_________________________________________________________________\n",
            "leaky_re_lu_2 (LeakyReLU)    (None, 11, 11, 64)        0         \n",
            "_________________________________________________________________\n",
            "max_pooling2d_2 (MaxPooling2 (None, 5, 5, 64)          0         \n",
            "=================================================================\n",
            "Total params: 18,816\n",
            "Trainable params: 18,816\n",
            "Non-trainable params: 0\n",
            "_________________________________________________________________\n"
          ],
          "name": "stdout"
        }
      ]
    },
    {
      "cell_type": "code",
      "metadata": {
        "colab_type": "code",
        "id": "gJr_9dXGpJ05",
        "outputId": "36664216-ce45-4eda-a0d8-b5578f687946",
        "colab": {
          "base_uri": "https://localhost:8080/",
          "height": 963
        }
      },
      "source": [
        "# 導入函式庫\n",
        "import numpy as np  \n",
        "from keras.models import Sequential\n",
        "from keras.datasets import mnist\n",
        "from keras.layers import Dense, Dropout, Activation, Flatten\n",
        "from keras.utils import np_utils \n",
        "from matplotlib import pyplot as plt\n",
        "(X_train, y_train), (X_test, y_test) = mnist.load_data()\n",
        "model = Sequential()\n",
        "##tanh\n",
        "model.add(Dense(units=256, input_dim=784,activation='relu', kernel_initializer='he_uniform')) \n",
        "model.add(Dense(units=10, kernel_initializer='normal', activation='tanh'))\n",
        "\n",
        "##   選擇損失函數 mean_squared_error 、優化方法 Adamax   及成效衡量方式\n",
        "model.compile(loss='mean_squared_error', optimizer='Adamax', metrics=['accuracy']) \n",
        "y_TrainOneHot = np_utils.to_categorical(y_train)  ## 測試\n",
        "y_TestOneHot = np_utils.to_categorical(y_test)    ## 預測\n",
        "X_train_2D = X_train.reshape(60000, 28*28).astype('float32')  \n",
        "X_test_2D = X_test.reshape(10000, 28*28).astype('float32')  \n",
        "x_Train_norm = X_train_2D/255\n",
        "x_Test_norm = X_test_2D/255\n",
        "##   2D \n",
        "train_history = model.fit(x=x_Train_norm, y=y_TrainOneHot, validation_split=0.2, epochs=10, batch_size=800, verbose=2)  \n",
        "scores = model.evaluate(x_Test_norm, y_TestOneHot)  \n",
        "print()  \n",
        "print(\"\\t[Info] Accuracy of testing data = {:2.1f}%\".format(scores[1]*100.0))  \n",
        "X = x_Test_norm[0:10,:]\n",
        "predictions = model.predict_classes(X)\n",
        "print(predictions)\n",
        "plt.imshow(X_test[0])\n",
        "plt.show() \n",
        "##  ---------------------------------------------------##  \n",
        "plt.plot(train_history.history['loss'])  \n",
        "plt.plot(train_history.history['val_loss'])  \n",
        "plt.title('Train History')  \n",
        "plt.ylabel('loss')  \n",
        "plt.xlabel('Epoch')  \n",
        "plt.legend(['loss', 'val_loss'], loc='upper left')  \n",
        "plt.show() "
      ],
      "execution_count": 57,
      "outputs": [
        {
          "output_type": "stream",
          "text": [
            "Train on 48000 samples, validate on 12000 samples\n",
            "Epoch 1/10\n",
            " - 1s - loss: 0.0474 - accuracy: 0.7957 - val_loss: 0.0292 - val_accuracy: 0.9082\n",
            "Epoch 2/10\n",
            " - 1s - loss: 0.0262 - accuracy: 0.9141 - val_loss: 0.0222 - val_accuracy: 0.9287\n",
            "Epoch 3/10\n",
            " - 1s - loss: 0.0211 - accuracy: 0.9285 - val_loss: 0.0190 - val_accuracy: 0.9351\n",
            "Epoch 4/10\n",
            " - 1s - loss: 0.0184 - accuracy: 0.9361 - val_loss: 0.0171 - val_accuracy: 0.9427\n",
            "Epoch 5/10\n",
            " - 1s - loss: 0.0166 - accuracy: 0.9427 - val_loss: 0.0157 - val_accuracy: 0.9480\n",
            "Epoch 6/10\n",
            " - 1s - loss: 0.0152 - accuracy: 0.9471 - val_loss: 0.0147 - val_accuracy: 0.9503\n",
            "Epoch 7/10\n",
            " - 1s - loss: 0.0142 - accuracy: 0.9514 - val_loss: 0.0138 - val_accuracy: 0.9532\n",
            "Epoch 8/10\n",
            " - 1s - loss: 0.0133 - accuracy: 0.9547 - val_loss: 0.0131 - val_accuracy: 0.9550\n",
            "Epoch 9/10\n",
            " - 1s - loss: 0.0125 - accuracy: 0.9573 - val_loss: 0.0125 - val_accuracy: 0.9571\n",
            "Epoch 10/10\n",
            " - 1s - loss: 0.0119 - accuracy: 0.9597 - val_loss: 0.0120 - val_accuracy: 0.9573\n",
            "10000/10000 [==============================] - 0s 27us/step\n",
            "\n",
            "\t[Info] Accuracy of testing data = 95.5%\n",
            "[7 2 1 0 4 1 4 9 6 9]\n"
          ],
          "name": "stdout"
        },
        {
          "output_type": "display_data",
          "data": {
            "image/png": "[encoded data removed]",
            "text/plain": [
              "<Figure size 432x288 with 1 Axes>"
            ]
          },
          "metadata": {
            "tags": [],
            "needs_background": "light"
          }
        },
        {
          "output_type": "display_data",
          "data": {
            "image/png": "[encoded data removed]",
            "text/plain": [
              "<Figure size 432x288 with 1 Axes>"
            ]
          },
          "metadata": {
            "tags": [],
            "needs_background": "light"
          }
        }
      ]
    },
    {
      "cell_type": "markdown",
      "metadata": {
        "id": "OmGpPixnQ2h-",
        "colab_type": "text"
      },
      "source": [
        ""
      ]
    },
    {
      "cell_type": "code",
      "metadata": {
        "id": "Mp48uG-dJJdY",
        "colab_type": "code",
        "colab": {
          "base_uri": "https://localhost:8080/",
          "height": 202
        },
        "outputId": "e02fb79b-6c02-4faa-c942-ee4c8c94a539"
      },
      "source": [
        "from __future__ import absolute_import, division, print_function, unicode_literals\n",
        "\n",
        "# 安装 TensorFlow\n",
        "\n",
        "import tensorflow as tf\n",
        "mnist = tf.keras.datasets.mnist\n",
        "\n",
        "(x_train, y_train), (x_test, y_test) = mnist.load_data()\n",
        "x_train, x_test = x_train / 255.0, x_test / 255.0\n",
        "\n",
        "model = tf.keras.models.Sequential([\n",
        "  tf.keras.layers.Flatten(input_shape=(28, 28)),\n",
        "  tf.keras.layers.Dense(128, activation='relu'),\n",
        "  tf.keras.layers.Dropout(0.2),\n",
        "  tf.keras.layers.Dense(10, activation='softmax')\n",
        "])\n",
        "model.compile(optimizer='adam',\n",
        "              loss='sparse_categorical_crossentropy',\n",
        "              metrics=['accuracy'])\n",
        "\n",
        "model.fit(x_train, y_train, epochs=5)\n",
        "model.evaluate(x_test,  y_test, verbose=2)\n",
        "plt.show() "
      ],
      "execution_count": 44,
      "outputs": [
        {
          "output_type": "stream",
          "text": [
            "Epoch 1/5\n",
            "1875/1875 [==============================] - 3s 2ms/step - loss: 0.2959 - accuracy: 0.9138\n",
            "Epoch 2/5\n",
            "1875/1875 [==============================] - 3s 2ms/step - loss: 0.1413 - accuracy: 0.9576\n",
            "Epoch 3/5\n",
            "1875/1875 [==============================] - 3s 2ms/step - loss: 0.1070 - accuracy: 0.9670\n",
            "Epoch 4/5\n",
            "1875/1875 [==============================] - 3s 2ms/step - loss: 0.0871 - accuracy: 0.9721\n",
            "Epoch 5/5\n",
            "1875/1875 [==============================] - 3s 2ms/step - loss: 0.0737 - accuracy: 0.9773\n",
            "313/313 - 0s - loss: 0.0726 - accuracy: 0.9785\n"
          ],
          "name": "stdout"
        }
      ]
    }
  ]
}